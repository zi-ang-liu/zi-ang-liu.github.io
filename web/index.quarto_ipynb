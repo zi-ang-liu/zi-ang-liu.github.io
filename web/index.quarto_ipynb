{
 "cells": [
  {
   "cell_type": "markdown",
   "id": "fa95fd52",
   "metadata": {},
   "source": [
    "---\n",
    "title: \"About\"\n",
    "image: https://avatars.githubusercontent.com/u/50853393?s=96&v=4\n",
    "about:\n",
    "  template: trestles\n",
    "  links:\n",
    "    - icon: github\n",
    "      text: Github\n",
    "      href: https://github.com/zi-ang-liu\n",
    "    - icon: google\n",
    "      text: Google Scholar\n",
    "      href: https://scholar.google.com/citations?user=dRuC1OoAAAAJ&hl\n",
    "    - icon: envelope\n",
    "      text: Email\n",
    "      href: mailto:liu@hosei.ac.jp\n",
    "    - text: ResearchGate\n",
    "      href: https://www.researchgate.net/profile/Ziang-Liu-4\n",
    "    - text: ORCID\n",
    "      href: https://orcid.org/0000-0002-1364-3502\n",
    "    - text: ResearchMap\n",
    "      href: https://researchmap.jp/liu.ziang\n",
    "    - text: Kaken\n",
    "      href: https://nrid.nii.ac.jp/ja/nrid/1000030908166/\n",
    "---\n",
    "\n",
    "Ziang Liu is an Associate Professor in the [Department of Industrial and Systems Engineering](https://ise-hp.ws.hosei.ac.jp/) at [Hosei University](https://www.hosei.ac.jp/). He is the head of the [Intelligent Systems Laboratory](https://isl-hosei.github.io/), conducting research in the fields of operations research, optimization, and machine learning.\n",
    "\n",
    "## Experience\n",
    "\n",
    "**Hosei University** | Associate Professor | April 2025 - Present\n",
    "\n",
    "**Okayama University** | Assistant Professor | April 2021 - March 2025\n",
    "\n",
    "## Address\n",
    "<i class=\"bi bi-geo-alt\"></i> \n",
    "Hosei University, Tokyo 184-8584, Japan"
   ]
  },
  {
   "cell_type": "code",
   "execution_count": 1,
   "id": "6e37c076",
   "metadata": {},
   "outputs": [
    {
     "name": "stdout",
     "output_type": "stream",
     "text": [
      "title= World Map at 48, 350\n"
     ]
    },
    {
     "data": {
      "application/vnd.jupyter.widget-view+json": {
       "model_id": "fc06329ba57b44ec8f7a6eea82ef76bb",
       "version_major": 2,
       "version_minor": 0
      },
      "text/plain": [
       "Map(center=[48, 350], controls=(ZoomControl(options=['position', 'zoom_in_text', 'zoom_in_title', 'zoom_out_te…"
      ]
     },
     "execution_count": 1,
     "metadata": {},
     "output_type": "execute_result"
    }
   ],
   "source": [
    "from ipyleaflet import Map, basemaps, basemap_to_tiles\n",
    "\n",
    "lat = 48\n",
    "long = 350\n",
    "\n",
    "print(\"title=\", f\"World Map at {lat}, {long}\")\n",
    "\n",
    "Map(basemap=basemap_to_tiles(basemaps.OpenStreetMap.Mapnik),\n",
    "    center=(lat, long), zoom=2)"
   ]
  }
 ],
 "metadata": {
  "kernelspec": {
   "display_name": "Python 3 (ipykernel)",
   "language": "python",
   "name": "python3",
   "path": "/Users/liu/miniconda3/envs/jb/share/jupyter/kernels/python3"
  },
  "language_info": {
   "codemirror_mode": {
    "name": "ipython",
    "version": 3
   },
   "file_extension": ".py",
   "mimetype": "text/x-python",
   "name": "python",
   "nbconvert_exporter": "python",
   "pygments_lexer": "ipython3",
   "version": "3.10.13"
  },
  "widgets": {
   "application/vnd.jupyter.widget-state+json": {
    "state": {
     "087750132d394ee495c15303c710df10": {
      "model_module": "jupyter-leaflet",
      "model_module_version": "^0.20",
      "model_name": "LeafletTileLayerModel",
      "state": {
       "_model_module": "jupyter-leaflet",
       "_model_module_version": "^0.20",
       "_model_name": "LeafletTileLayerModel",
       "_view_count": null,
       "_view_module": "jupyter-leaflet",
       "_view_module_version": "^0.20",
       "_view_name": "LeafletTileLayerView",
       "attribution": "&copy; <a href=\"https://www.openstreetmap.org/copyright\">OpenStreetMap</a> contributors",
       "base": true,
       "bottom": true,
       "bounds": null,
       "detect_retina": false,
       "loading": false,
       "max_native_zoom": null,
       "max_zoom": 19,
       "min_native_zoom": null,
       "min_zoom": 1,
       "name": "OpenStreetMap.Mapnik",
       "no_wrap": false,
       "opacity": 1.0,
       "options": [
        "attribution",
        "bounds",
        "detect_retina",
        "max_native_zoom",
        "max_zoom",
        "min_native_zoom",
        "min_zoom",
        "no_wrap",
        "pm_ignore",
        "tile_size",
        "tms",
        "zoom_offset"
       ],
       "pane": "",
       "pm_ignore": true,
       "popup": null,
       "popup_max_height": null,
       "popup_max_width": 300,
       "popup_min_width": 50,
       "show_loading": false,
       "snap_ignore": true,
       "subitems": [],
       "tile_size": 256,
       "tms": false,
       "url": "https://tile.openstreetmap.org/{z}/{x}/{y}.png",
       "visible": true,
       "zoom_offset": 0
      }
     },
     "20c8c3edb6a0400a9cbbbb95ec0dc3d9": {
      "model_module": "jupyter-leaflet",
      "model_module_version": "^0.20",
      "model_name": "LeafletMapStyleModel",
      "state": {
       "_model_module": "jupyter-leaflet",
       "_model_module_version": "^0.20",
       "_model_name": "LeafletMapStyleModel",
       "_view_count": null,
       "_view_module": "@jupyter-widgets/base",
       "_view_module_version": "2.0.0",
       "_view_name": "StyleView",
       "cursor": "grab"
      }
     },
     "403e9e75a6b04fe8ac6177e98c1152fe": {
      "model_module": "jupyter-leaflet",
      "model_module_version": "^0.20",
      "model_name": "LeafletAttributionControlModel",
      "state": {
       "_model_module": "jupyter-leaflet",
       "_model_module_version": "^0.20",
       "_model_name": "LeafletAttributionControlModel",
       "_view_count": null,
       "_view_module": "jupyter-leaflet",
       "_view_module_version": "^0.20",
       "_view_name": "LeafletAttributionControlView",
       "options": [
        "position",
        "prefix"
       ],
       "position": "bottomright",
       "prefix": "ipyleaflet"
      }
     },
     "562fe21f5802410386fec63246a430f9": {
      "model_module": "jupyter-leaflet",
      "model_module_version": "^0.20",
      "model_name": "LeafletMapStyleModel",
      "state": {
       "_model_module": "jupyter-leaflet",
       "_model_module_version": "^0.20",
       "_model_name": "LeafletMapStyleModel",
       "_view_count": null,
       "_view_module": "@jupyter-widgets/base",
       "_view_module_version": "2.0.0",
       "_view_name": "StyleView",
       "cursor": "move"
      }
     },
     "6bb1c0255008413a8bb1c62a09783cda": {
      "model_module": "@jupyter-widgets/base",
      "model_module_version": "2.0.0",
      "model_name": "LayoutModel",
      "state": {
       "_model_module": "@jupyter-widgets/base",
       "_model_module_version": "2.0.0",
       "_model_name": "LayoutModel",
       "_view_count": null,
       "_view_module": "@jupyter-widgets/base",
       "_view_module_version": "2.0.0",
       "_view_name": "LayoutView",
       "align_content": null,
       "align_items": null,
       "align_self": null,
       "border_bottom": null,
       "border_left": null,
       "border_right": null,
       "border_top": null,
       "bottom": null,
       "display": null,
       "flex": null,
       "flex_flow": null,
       "grid_area": null,
       "grid_auto_columns": null,
       "grid_auto_flow": null,
       "grid_auto_rows": null,
       "grid_column": null,
       "grid_gap": null,
       "grid_row": null,
       "grid_template_areas": null,
       "grid_template_columns": null,
       "grid_template_rows": null,
       "height": null,
       "justify_content": null,
       "justify_items": null,
       "left": null,
       "margin": null,
       "max_height": null,
       "max_width": null,
       "min_height": null,
       "min_width": null,
       "object_fit": null,
       "object_position": null,
       "order": null,
       "overflow": null,
       "padding": null,
       "right": null,
       "top": null,
       "visibility": null,
       "width": null
      }
     },
     "9db2edb95a6f4b8e999aa7002d52c7c4": {
      "model_module": "jupyter-leaflet",
      "model_module_version": "^0.20",
      "model_name": "LeafletMapStyleModel",
      "state": {
       "_model_module": "jupyter-leaflet",
       "_model_module_version": "^0.20",
       "_model_name": "LeafletMapStyleModel",
       "_view_count": null,
       "_view_module": "@jupyter-widgets/base",
       "_view_module_version": "2.0.0",
       "_view_name": "StyleView",
       "cursor": "grab"
      }
     },
     "a0e48e49c1c648c7b12651db1e6c0842": {
      "model_module": "jupyter-leaflet",
      "model_module_version": "^0.20",
      "model_name": "LeafletZoomControlModel",
      "state": {
       "_model_module": "jupyter-leaflet",
       "_model_module_version": "^0.20",
       "_model_name": "LeafletZoomControlModel",
       "_view_count": null,
       "_view_module": "jupyter-leaflet",
       "_view_module_version": "^0.20",
       "_view_name": "LeafletZoomControlView",
       "options": [
        "position",
        "zoom_in_text",
        "zoom_in_title",
        "zoom_out_text",
        "zoom_out_title"
       ],
       "position": "topleft",
       "zoom_in_text": "+",
       "zoom_in_title": "Zoom in",
       "zoom_out_text": "-",
       "zoom_out_title": "Zoom out"
      }
     },
     "fc06329ba57b44ec8f7a6eea82ef76bb": {
      "model_module": "jupyter-leaflet",
      "model_module_version": "^0.20",
      "model_name": "LeafletMapModel",
      "state": {
       "_dom_classes": [],
       "_model_module": "jupyter-leaflet",
       "_model_module_version": "^0.20",
       "_model_name": "LeafletMapModel",
       "_view_count": null,
       "_view_module": "jupyter-leaflet",
       "_view_module_version": "^0.20",
       "_view_name": "LeafletMapView",
       "bottom": 0.0,
       "bounce_at_zoom_limits": true,
       "box_zoom": true,
       "center": [
        48,
        350
       ],
       "close_popup_on_click": true,
       "controls": [
        "IPY_MODEL_a0e48e49c1c648c7b12651db1e6c0842",
        "IPY_MODEL_403e9e75a6b04fe8ac6177e98c1152fe"
       ],
       "crs": {
        "custom": false,
        "name": "EPSG3857"
       },
       "default_style": "IPY_MODEL_9db2edb95a6f4b8e999aa7002d52c7c4",
       "double_click_zoom": true,
       "dragging": true,
       "dragging_style": "IPY_MODEL_562fe21f5802410386fec63246a430f9",
       "east": 0.0,
       "fullscreen": false,
       "inertia": true,
       "inertia_deceleration": 3000,
       "inertia_max_speed": 1500,
       "interpolation": "bilinear",
       "keyboard": true,
       "keyboard_pan_offset": 80,
       "keyboard_zoom_offset": 1,
       "layers": [
        "IPY_MODEL_087750132d394ee495c15303c710df10"
       ],
       "layout": "IPY_MODEL_6bb1c0255008413a8bb1c62a09783cda",
       "left": 9007199254740991.0,
       "max_zoom": null,
       "min_zoom": null,
       "modisdate": "2025-08-27",
       "north": 0.0,
       "options": [
        "bounce_at_zoom_limits",
        "box_zoom",
        "center",
        "close_popup_on_click",
        "double_click_zoom",
        "dragging",
        "fullscreen",
        "inertia",
        "inertia_deceleration",
        "inertia_max_speed",
        "interpolation",
        "keyboard",
        "keyboard_pan_offset",
        "keyboard_zoom_offset",
        "max_zoom",
        "min_zoom",
        "prefer_canvas",
        "scroll_wheel_zoom",
        "tap",
        "tap_tolerance",
        "touch_zoom",
        "world_copy_jump",
        "zoom",
        "zoom_animation_threshold",
        "zoom_delta",
        "zoom_snap"
       ],
       "panes": {},
       "prefer_canvas": false,
       "right": 0.0,
       "scroll_wheel_zoom": false,
       "south": 0.0,
       "style": "IPY_MODEL_20c8c3edb6a0400a9cbbbb95ec0dc3d9",
       "tabbable": null,
       "tap": true,
       "tap_tolerance": 15,
       "tooltip": null,
       "top": 9007199254740991.0,
       "touch_zoom": true,
       "west": 0.0,
       "window_url": "",
       "world_copy_jump": false,
       "zoom": 2.0,
       "zoom_animation_threshold": 4,
       "zoom_delta": 1.0,
       "zoom_snap": 1.0
      }
     }
    },
    "version_major": 2,
    "version_minor": 0
   }
  }
 },
 "nbformat": 4,
 "nbformat_minor": 5
}
